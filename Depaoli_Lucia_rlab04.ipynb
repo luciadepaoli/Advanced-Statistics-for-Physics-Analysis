{
 "cells": [
  {
   "cell_type": "markdown",
   "id": "equipped-cover",
   "metadata": {},
   "source": [
    "# Lucia Depaoli\n",
    "# 2016960"
   ]
  },
  {
   "cell_type": "markdown",
   "id": "identical-pathology",
   "metadata": {},
   "source": [
    "# Ex 1"
   ]
  },
  {
   "cell_type": "markdown",
   "id": "indirect-rolling",
   "metadata": {},
   "source": [
    "Six Boxes Toy Model.\n",
    "\n",
    "I run these $2$ exercises as a script in R terminal in Anaconda in order to visualize the plot in real time with the extraction."
   ]
  },
  {
   "cell_type": "code",
   "execution_count": 1,
   "id": "joined-aging",
   "metadata": {},
   "outputs": [
    {
     "name": "stdout",
     "output_type": "stream",
     "text": [
      "H0:  B B B B B \n",
      "H1:  B B B B W \n",
      "H2:  B B B W W \n",
      "H3:  B B W W W \n",
      "H4:  B W W W W \n",
      "H5:  W W W W W \n"
     ]
    }
   ],
   "source": [
    "H0 <- rep('B', 5)\n",
    "cat('H0: ',H0, '\\n')\n",
    "H1 <- rep(c('B','W'), c(4,1))\n",
    "cat('H1: ',H1, '\\n')\n",
    "H2 <- rep(c('B','W'), c(3,2))\n",
    "cat('H2: ',H2, '\\n')\n",
    "H3 <- rep(c('B','W'), c(2,3))\n",
    "cat('H3: ',H3, '\\n')\n",
    "H4 <- rep(c('B','W'), c(1,4))\n",
    "cat('H4: ',H4, '\\n')\n",
    "H5 <- rep('W', 5)\n",
    "cat('H5: ',H5, '\\n')"
   ]
  },
  {
   "cell_type": "markdown",
   "id": "growing-kennedy",
   "metadata": {},
   "source": [
    "Probability of 'B' and 'W' for each box."
   ]
  },
  {
   "cell_type": "code",
   "execution_count": 2,
   "id": "bibliographic-cleaner",
   "metadata": {},
   "outputs": [],
   "source": [
    "probB <- c(1, 4/5, 3/5, 2/5, 1/5, 0)\n",
    "probW <- c(0, 1/5, 2/5, 3/5, 4/5, 1)"
   ]
  },
  {
   "cell_type": "markdown",
   "id": "retired-premises",
   "metadata": {},
   "source": [
    "Function to calculate the probability using Bayes' theorem."
   ]
  },
  {
   "cell_type": "code",
   "execution_count": 3,
   "id": "boxed-narrow",
   "metadata": {},
   "outputs": [],
   "source": [
    "bayes <- function(prob, extr) {\n",
    "    if (extr == 'B') {\n",
    "        num <- probB * prob\n",
    "        den <- sum(probB * prob)\n",
    "        }\n",
    "    else {\n",
    "        num <- probW * prob\n",
    "        den <- sum(probW * prob)\n",
    "    }\n",
    "    return(num/den)\n",
    "}"
   ]
  },
  {
   "cell_type": "markdown",
   "id": "blind-clearing",
   "metadata": {},
   "source": [
    "Function where the user can insert the extracted color and can calculate the probability of having each box at each extraction and the relative plots."
   ]
  },
  {
   "cell_type": "code",
   "execution_count": 4,
   "id": "furnished-mixture",
   "metadata": {},
   "outputs": [],
   "source": [
    "selected_sampling <- function() {\n",
    "    \n",
    "    par(mfrow=c(2,3))\n",
    "    \n",
    "    c <- readline(prompt=\"How many extraction? \")\n",
    "    extraction <- (NULL)\n",
    "    \n",
    "    y0 <- (NULL)\n",
    "    y1 <- (NULL)\n",
    "    y2 <- (NULL)\n",
    "    y3 <- (NULL)\n",
    "    y4 <- (NULL)\n",
    "    y5 <- (NULL)\n",
    "    \n",
    "    prob <- rep(1/6,6)\n",
    "    for (i in 1:c) {\n",
    "        ex <- readline(prompt=\"What color have you drawn? \")\n",
    "        prob <- bayes(prob, ex)\n",
    "        cat(prob, '\\n')\n",
    "        y0 <- c(y0,prob[1])\n",
    "        plot(1:i, y0 ,main = \"H0\",col = \"firebrick\", pch = 16,\n",
    "             xlab = \"Number of extraction\", ylab = \"Probability\",xaxt = \"n\", xlim=c(0,50), ylim=c(0,1))\n",
    "        \n",
    "        y1 <- c(y1,prob[2])\n",
    "        plot(1:i, y1 ,main = \"H1\",col = \"firebrick\", pch = 16,\n",
    "             xlab = \"Number of extraction\", ylab = \"Probability\",xlim=c(0,50), ylim=c(0,1))\n",
    "        \n",
    "        y2 <- c(y2,prob[3])\n",
    "        plot(1:i, y2 ,main = \"H2\",col = \"firebrick\",pch = 16,\n",
    "             xlab = \"Number of extraction\",ylab = \"Probability\",xlim=c(0,50), ylim=c(0,1))\n",
    "        \n",
    "        y3 <- c(y3,prob[4])\n",
    "        plot(1:i, y3 ,main = \"H3\",col = \"firebrick\",pch = 16,\n",
    "             xlab = \"Number of extraction\",ylab = \"Probability\",xlim=c(0,50), ylim=c(0,1))\n",
    "        \n",
    "        y4 <- c(y4,prob[5])\n",
    "        plot(1:i, y4 ,main = \"H4\",col = \"firebrick\",pch = 16,\n",
    "             xlab = \"Number of extraction\",ylab = \"Probability\",xlim=c(0,50), ylim=c(0,1))\n",
    "        \n",
    "        y5 <- c(y5,prob[6])\n",
    "        plot(1:i, y5 ,main = \"H5\",col = \"firebrick\",pch = 16,\n",
    "             xlab = \"Number of extraction\",ylab = \"Probability\",xlim=c(0,50), ylim=c(0,1))\n",
    "        \n",
    "        }\n",
    "\n",
    "    return(prob)\n",
    "}"
   ]
  },
  {
   "cell_type": "markdown",
   "id": "connected-thanks",
   "metadata": {},
   "source": [
    "# Ex 2"
   ]
  },
  {
   "cell_type": "markdown",
   "id": "violent-thermal",
   "metadata": {},
   "source": [
    "Random simulation of the exercise above."
   ]
  },
  {
   "cell_type": "code",
   "execution_count": 5,
   "id": "tough-devon",
   "metadata": {},
   "outputs": [],
   "source": [
    "random_sampling <- function() {\n",
    "    \n",
    "    boxes <- list(H0, H1, H2, H3, H4, H5)\n",
    "    idx <- sample(1:length(boxes), 1, replace = F)\n",
    "    box <- boxes[idx]\n",
    "    \n",
    "    par(mfrow=c(2,3))\n",
    "    \n",
    "    c <- readline(prompt=\"How many extraction? \")\n",
    "    extraction <- (NULL)\n",
    "    \n",
    "    y0 <- (NULL)\n",
    "    y1 <- (NULL)\n",
    "    y2 <- (NULL)\n",
    "    y3 <- (NULL)\n",
    "    y4 <- (NULL)\n",
    "    y5 <- (NULL)\n",
    "    \n",
    "    prob <- rep(1/6,6)\n",
    "    for (i in 1:c) {\n",
    "        ex <- sample(unlist(box),1)\n",
    "        prob <- bayes(prob, ex)\n",
    "        cat(prob, '\\n')\n",
    "        y0 <- c(y0,prob[1])\n",
    "        plot(1:i, y0 ,main = \"H0\",col = \"firebrick\", pch = 16,\n",
    "             xlab = \"Number of extraction\", ylab = \"Probability\",xaxt = \"n\", xlim=c(0,100), ylim=c(0,1))\n",
    "        \n",
    "        y1 <- c(y1,prob[2])\n",
    "        plot(1:i, y1 ,main = \"H1\",col = \"firebrick\",pch = 16,\n",
    "             xlab = \"Number of extraction\", ylab = \"Probability\",xlim=c(0,100), ylim=c(0,1))\n",
    "        \n",
    "        y2 <- c(y2,prob[3])\n",
    "        plot(1:i, y2 ,main = \"H2\",col = \"firebrick\",pch = 16,\n",
    "             xlab = \"Number of extraction\",ylab = \"Probability\",xlim=c(0,100), ylim=c(0,1))\n",
    "        \n",
    "        y3 <- c(y3,prob[4])\n",
    "        plot(1:i, y3 ,main = \"H3\",col = \"firebrick\",pch = 16,\n",
    "             xlab = \"Number of extraction\",ylab = \"Probability\",xlim=c(0,100), ylim=c(0,1))\n",
    "        \n",
    "        y4 <- c(y4,prob[5])\n",
    "        plot(1:i, y4 ,main = \"H4\",col = \"firebrick\",pch = 16,\n",
    "             xlab = \"Number of extraction\",ylab = \"Probability\",xlim=c(0,100), ylim=c(0,1))\n",
    "        \n",
    "        y5 <- c(y5,prob[6])\n",
    "        plot(1:i, y5 ,main = \"H5\",col = \"firebrick\",pch = 16,\n",
    "             xlab = \"Number of extraction\",ylab = \"Probability\",xlim=c(0,100), ylim=c(0,1))\n",
    "        \n",
    "        }\n",
    "\n",
    "    return(prob)\n",
    "}"
   ]
  },
  {
   "cell_type": "markdown",
   "id": "fifteen-plain",
   "metadata": {},
   "source": [
    "# Ex 3"
   ]
  },
  {
   "cell_type": "markdown",
   "id": "excess-richmond",
   "metadata": {},
   "source": [
    "Random sampling from the Erlang distribution."
   ]
  },
  {
   "cell_type": "code",
   "execution_count": 6,
   "id": "manufactured-sociology",
   "metadata": {},
   "outputs": [
    {
     "name": "stderr",
     "output_type": "stream",
     "text": [
      "Warning message:\n",
      "\"package 'SciViews' was built under R version 3.6.3\""
     ]
    }
   ],
   "source": [
    "library(SciViews)\n",
    "n <- 10\n",
    "b <- 5\n",
    "#m <- 100\n",
    "N <- 1000\n",
    "\n",
    "erlang <- function(n, b, N){\n",
    "    y<- (NULL)\n",
    "    for (i in 1:N){\n",
    "     y <- c(y, b*sum(-log(runif(n))))\n",
    "    }\n",
    "    return (y)\n",
    "}\n",
    "\n",
    "sampling <- erlang(n, b, N)\n",
    "gamma <- rgamma(N, n, rate = 1/b)"
   ]
  },
  {
   "cell_type": "code",
   "execution_count": 7,
   "id": "temporal-citation",
   "metadata": {},
   "outputs": [
    {
     "data": {
      "image/png": "[encoded data removed]",
      "text/plain": [
       "Plot with title \"Comparison between sampling\""
      ]
     },
     "metadata": {},
     "output_type": "display_data"
    }
   ],
   "source": [
    "options(repr.plot.width = 10, repr.plot.height = 6)\n",
    "\n",
    "hist(sampling, breaks = 10, col = rgb(0,0,1,1), xlab=\"x\", \n",
    "     ylab=\"Sampling\", main=\"Comparison between sampling\", ylim = c(0,300))\n",
    "hist(gamma, breaks = 10, col = rgb(1,0,0,0.5), add = TRUE)\n",
    "\n",
    "legend(\"topright\", c(\"Erlang\", \"RGamma\"), col=c(rgb(0,0,1,1), rgb(1,0,0,0.5)), lwd=10)\n",
    "\n",
    "grid()"
   ]
  },
  {
   "cell_type": "markdown",
   "id": "finite-postage",
   "metadata": {},
   "source": [
    "# Ex 4"
   ]
  },
  {
   "cell_type": "markdown",
   "id": "parental-prior",
   "metadata": {},
   "source": [
    "Random sampling using middle square algorithm.\n",
    "I put $10$ as the number of digits. Sometime it happens to have a $9$ digits number at the end. This is because the first digit was a $0$ and so the last command ('as.numeric') delete this $0$."
   ]
  },
  {
   "cell_type": "code",
   "execution_count": 8,
   "id": "amber-cursor",
   "metadata": {},
   "outputs": [],
   "source": [
    "options(scipen=999)\n",
    "digit <- 10\n",
    "\n",
    "middle_square_alg <- function(digit = 10, count= 10) {\n",
    "    digit <- 10\n",
    "    num <- sample(10^digit, 1)\n",
    "    cat('Original number: ', num, '\\n')\n",
    "    \n",
    "    for (i in 1:count){\n",
    "            num <- unlist(strsplit(as.character(num^2),\"\"))\n",
    "        \n",
    "        while (length(num) > 10) {\n",
    "            if (length(num)%%2 == 0)\n",
    "            {num <- head(num,-1)} \n",
    "            else\n",
    "            {num <- tail(num,-1)}\n",
    "            }\n",
    "        \n",
    "            num <- as.numeric(paste(num, collapse=\"\"))\n",
    "        }\n",
    "    cat('Final number: ', num, '\\n')\n",
    "}"
   ]
  },
  {
   "cell_type": "code",
   "execution_count": 9,
   "id": "talented-shape",
   "metadata": {},
   "outputs": [
    {
     "name": "stdout",
     "output_type": "stream",
     "text": [
      "Original number:  6599216042 \n",
      "Final number:  5036286126 \n"
     ]
    }
   ],
   "source": [
    "middle_square_alg()"
   ]
  }
 ],
 "metadata": {
  "kernelspec": {
   "display_name": "R [conda env:rstudio]",
   "language": "R",
   "name": "conda-env-rstudio-r"
  },
  "language_info": {
   "codemirror_mode": "r",
   "file_extension": ".r",
   "mimetype": "text/x-r-source",
   "name": "R",
   "pygments_lexer": "r",
   "version": "3.6.1"
  }
 },
 "nbformat": 4,
 "nbformat_minor": 5
}
