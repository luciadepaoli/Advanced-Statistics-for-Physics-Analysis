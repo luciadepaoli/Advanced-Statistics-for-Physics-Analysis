{
 "cells": [
  {
   "cell_type": "markdown",
   "id": "rolled-habitat",
   "metadata": {},
   "source": [
    "# Lucia Depaoli\n",
    "# 2016960"
   ]
  },
  {
   "cell_type": "code",
   "execution_count": 1,
   "id": "afraid-drama",
   "metadata": {},
   "outputs": [
    {
     "name": "stderr",
     "output_type": "stream",
     "text": [
      "Warning message:\n",
      "\"package 'polyqtlR' was built under R version 3.6.3\"Warning message:\n",
      "\"package 'ggplot2' was built under R version 3.6.3\"Warning message:\n",
      "\"package 'GoFKernel' was built under R version 3.6.3\"Loading required package: KernSmooth\n",
      "KernSmooth 2.23 loaded\n",
      "Copyright M. P. Wand 1997-2009\n"
     ]
    }
   ],
   "source": [
    "library(polyqtlR)\n",
    "library(ggplot2)\n",
    "library(GoFKernel)"
   ]
  },
  {
   "cell_type": "markdown",
   "id": "increased-arabic",
   "metadata": {},
   "source": [
    "# Ex 1"
   ]
  },
  {
   "cell_type": "markdown",
   "id": "phantom-exhibition",
   "metadata": {},
   "source": [
    "### 1.1\n",
    "A set of measurements have been performed on the concentration of a contaminant in tap water. The following tables reports a set of values (x), with the corresponding probabilities given by the two methods (p1 and p2)."
   ]
  },
  {
   "cell_type": "code",
   "execution_count": 2,
   "id": "signal-sacramento",
   "metadata": {},
   "outputs": [],
   "source": [
    "x <- c(15.58, 15.9, 16, 16.1, 16.2)\n",
    "p1 <- c(0.15, 0.21, 0.35, 0.15, 0.14)\n",
    "p2 <- c(0.14, 0.05, 0.64, 0.08, 0.09)"
   ]
  },
  {
   "cell_type": "markdown",
   "id": "composed-boost",
   "metadata": {},
   "source": [
    "### 1.2\n",
    "Evaluate the expected values, E[X], and the variance, Var(X), for both methods."
   ]
  },
  {
   "cell_type": "code",
   "execution_count": 3,
   "id": "rapid-pride",
   "metadata": {},
   "outputs": [
    {
     "name": "stdout",
     "output_type": "stream",
     "text": [
      "The expected value with p1 method:  15.959 \n",
      "The expected value with p2 method:  15.9622 \n",
      "The expected value with p1 method:  15.959 \n",
      "The expected value with p2 method:  15.9622 \n"
     ]
    }
   ],
   "source": [
    "expected <- function(x,p) {\n",
    "    sum(x*p)/sum(p)\n",
    "}\n",
    "\n",
    "cat('The expected value with p1 method: ',weighted.mean(x,p1),'\\n')\n",
    "cat('The expected value with p2 method: ',weighted.mean(x,p2),'\\n')\n",
    "\n",
    "cat('The expected value with p1 method: ',expected(x,p1),'\\n')\n",
    "cat('The expected value with p2 method: ',expected(x,p2),'\\n')"
   ]
  },
  {
   "cell_type": "code",
   "execution_count": 4,
   "id": "monetary-frame",
   "metadata": {},
   "outputs": [
    {
     "name": "stdout",
     "output_type": "stream",
     "text": [
      "The expected value with p1 method:  0.033988 \n",
      "The expected value with p2 method:  0.0282056 \n"
     ]
    }
   ],
   "source": [
    "var <- function(x,p) {\n",
    "    sum(p* (x - weighted.mean(x))**2)\n",
    "}\n",
    "\n",
    "cat('The expected value with p1 method: ',var(x,p1),'\\n')\n",
    "cat('The expected value with p2 method: ',var(x,p2),'\\n')"
   ]
  },
  {
   "cell_type": "markdown",
   "id": "familiar-oasis",
   "metadata": {},
   "source": [
    "# Ex 2"
   ]
  },
  {
   "cell_type": "markdown",
   "id": "suited-firewall",
   "metadata": {},
   "source": [
    "### 2.1\n",
    "Simulate the waiting time for 50 people at the doctor's office and plot the relative histogram."
   ]
  },
  {
   "cell_type": "code",
   "execution_count": 5,
   "id": "charitable-title",
   "metadata": {},
   "outputs": [],
   "source": [
    "lambda <- 1/30\n",
    "simul <- rexp(1:50, lambda)\n",
    "time <- cumsum(simul)\n",
    "people <- 1:50\n",
    "\n",
    "# hist(simul, breaks=40, xlim=c(0,150), col='firebrick', xlab=\"Waiting time [m]\", \n",
    "#      ylab=\"# people\", main=\"Simulation of waiting time of 50 people\" )"
   ]
  },
  {
   "cell_type": "code",
   "execution_count": 6,
   "id": "upper-grammar",
   "metadata": {},
   "outputs": [
    {
     "data": {
      "image/png": "[encoded data removed]",
      "text/plain": [
       "plot without title"
      ]
     },
     "metadata": {},
     "output_type": "display_data"
    }
   ],
   "source": [
    "df <- data.frame(time,people)\n",
    "\n",
    "ggplot(df, aes(x=people, y=time)) +\n",
    "  geom_bar(stat=\"identity\", fill='firebrick') + labs(y='Waiting time', x='# people',\n",
    "       title = \"Simulation of waiting time of 50 people\") + theme_minimal() +\n",
    "    ggtitle(\"Simulation of waiting time of 50 people\")+\n",
    "    theme(plot.title = element_text(hjust = 0.5, size=10))"
   ]
  },
  {
   "cell_type": "markdown",
   "id": "lesser-harassment",
   "metadata": {},
   "source": [
    "### 2.2\n",
    "What is the probability that a person will wait for less than 10 minutes?"
   ]
  },
  {
   "cell_type": "code",
   "execution_count": 7,
   "id": "attended-congo",
   "metadata": {},
   "outputs": [
    {
     "name": "stdout",
     "output_type": "stream",
     "text": [
      "Probability that a person will wait for less than 10 minutes:  28.34687"
     ]
    }
   ],
   "source": [
    "cat('Probability that a person will wait for less than 10 minutes: ',pexp(10,lambda)*100)"
   ]
  },
  {
   "cell_type": "markdown",
   "id": "yellow-memphis",
   "metadata": {},
   "source": [
    "### 2.3\n",
    "Evaluate the average waiting time from the simulated data and compare it with the expected value."
   ]
  },
  {
   "cell_type": "code",
   "execution_count": 8,
   "id": "public-drunk",
   "metadata": {},
   "outputs": [
    {
     "name": "stdout",
     "output_type": "stream",
     "text": [
      "Average waiting time from the simulated data:  25.45876 \n",
      "Average waiting time expected value:  30"
     ]
    }
   ],
   "source": [
    "cat('Average waiting time from the simulated data: ', mean(rexp(people,lambda)),'\\n')\n",
    "cat('Average waiting time expected value: ', 1/lambda)"
   ]
  },
  {
   "cell_type": "markdown",
   "id": "scenic-limitation",
   "metadata": {},
   "source": [
    "### 2.4\n",
    "What is the probability for waiting more than one hour before being received?"
   ]
  },
  {
   "cell_type": "code",
   "execution_count": 9,
   "id": "accurate-squad",
   "metadata": {},
   "outputs": [
    {
     "name": "stdout",
     "output_type": "stream",
     "text": [
      "Probability that a person will wait for more than 60 minutes:  13.53353"
     ]
    }
   ],
   "source": [
    "cat('Probability that a person will wait for more than 60 minutes: ',(1 - pexp(60,lambda)) * 100)"
   ]
  },
  {
   "cell_type": "markdown",
   "id": "bottom-coordinate",
   "metadata": {},
   "source": [
    "# Ex 3"
   ]
  },
  {
   "cell_type": "markdown",
   "id": "thermal-citizen",
   "metadata": {},
   "source": [
    "### 3.1\n",
    "Let's suppose that on a book, on average, there is one typo error every three pages. If the number of errors follows a Poisson distribution, plot the pdf and cdf, and calculate the probability that there is at least one error on a specific page of the\n",
    "book."
   ]
  },
  {
   "cell_type": "code",
   "execution_count": 10,
   "id": "union-hopkins",
   "metadata": {},
   "outputs": [],
   "source": [
    "lambda <- 1/3\n",
    "x <- 0:6"
   ]
  },
  {
   "cell_type": "code",
   "execution_count": 11,
   "id": "young-thong",
   "metadata": {},
   "outputs": [
    {
     "data": {
      "image/png": "[encoded data removed]",
      "text/plain": [
       "Plot with title \"Poisson distribution with lambda = 0.333\""
      ]
     },
     "metadata": {},
     "output_type": "display_data"
    }
   ],
   "source": [
    "barplot(dpois(x,lambda), names=x, col='firebrick', xlab='x', ylab='f(x)',\n",
    "ylim=c(0,0.8),main = sprintf(\"Poisson distribution with lambda = %.3f\",lambda))"
   ]
  },
  {
   "cell_type": "code",
   "execution_count": 12,
   "id": "artificial-affiliate",
   "metadata": {},
   "outputs": [
    {
     "data": {
      "image/png": "[encoded data removed]",
      "text/plain": [
       "Plot with title \"Cumulative Poisson distribution with lambda = 0.333\""
      ]
     },
     "metadata": {},
     "output_type": "display_data"
    }
   ],
   "source": [
    "barplot(ppois(x,lambda), names=x, col='firebrick', xlab='x', ylab='f(x)',ylim=c(0,1),\n",
    "        main = sprintf(\"Cumulative Poisson distribution with lambda = %.3f\",lambda))"
   ]
  },
  {
   "cell_type": "code",
   "execution_count": 13,
   "id": "dirty-supply",
   "metadata": {},
   "outputs": [
    {
     "name": "stdout",
     "output_type": "stream",
     "text": [
      "Probability that there is at least one error on a page of the book:  28.34687 \n"
     ]
    }
   ],
   "source": [
    "cat('Probability that there is at least one error on a page of the book: ',(1 - ppois(0,lambda)) * 100,'\\n')"
   ]
  },
  {
   "cell_type": "markdown",
   "id": "attached-stevens",
   "metadata": {},
   "source": [
    "# Ex 4"
   ]
  },
  {
   "cell_type": "markdown",
   "id": "violent-short",
   "metadata": {},
   "source": [
    "We randomly draw cards from a deck of 52 cards, with replacement, until one ace is drawn. Calculate the probability that at least 10 draws are needed."
   ]
  },
  {
   "cell_type": "code",
   "execution_count": 14,
   "id": "psychological-sessions",
   "metadata": {},
   "outputs": [
    {
     "name": "stdout",
     "output_type": "stream",
     "text": [
      "Probability to need at least 10 drawn for pick up an ace:  55.08629"
     ]
    }
   ],
   "source": [
    "noprob <- 48/52\n",
    "\n",
    "cat('Probability to need at least 10 drawn for pick up an ace: ', (1 - noprob^10)*100)"
   ]
  },
  {
   "cell_type": "markdown",
   "id": "nonprofit-coalition",
   "metadata": {},
   "source": [
    "# Ex 5"
   ]
  },
  {
   "cell_type": "markdown",
   "id": "hispanic-johnson",
   "metadata": {},
   "source": [
    "The time it takes a student to complete a TOLC-I University orientation and evaluation test follows a density function of the form:"
   ]
  },
  {
   "cell_type": "code",
   "execution_count": 15,
   "id": "worst-stake",
   "metadata": {},
   "outputs": [],
   "source": [
    "pdf <- function(x, c = 1) {\n",
    "    ifelse(x > 1 & x < 2,\n",
    "          c * (x - 1) * (2 - x),\n",
    "          0)\n",
    "}"
   ]
  },
  {
   "cell_type": "markdown",
   "id": "exempt-faith",
   "metadata": {},
   "source": [
    "### 5.1\n",
    "Using the integrate() R function, determine the constant c (and verify it analytically)."
   ]
  },
  {
   "cell_type": "code",
   "execution_count": 16,
   "id": "typical-growth",
   "metadata": {},
   "outputs": [
    {
     "name": "stdout",
     "output_type": "stream",
     "text": [
      "Value of c:  6"
     ]
    }
   ],
   "source": [
    "c <- 1 / integrate(pdf, 1, 2)$value\n",
    "cat('Value of c: ',c)"
   ]
  },
  {
   "cell_type": "markdown",
   "id": "acceptable-prayer",
   "metadata": {},
   "source": [
    "### 5.2\n",
    "Write the set of four R functions and plot the pdf and cdf, respectively."
   ]
  },
  {
   "cell_type": "code",
   "execution_count": 17,
   "id": "affecting-switch",
   "metadata": {},
   "outputs": [],
   "source": [
    "pdf <- function(x, c = 6) {\n",
    "    ifelse(x > 1 & x < 2,\n",
    "          c * (x - 1) * (2 - x),\n",
    "          0)\n",
    "}\n",
    "\n",
    "cdf <- function(x,c = 6) {\n",
    "        ifelse(x > 1 & x < 2, \n",
    "              c * (3* (x^2)/2 - (x^3)/3 - 2*x) + 5,\n",
    "               ifelse(x <= 1,\n",
    "                     0,\n",
    "                     1)\n",
    "    )\n",
    "    }\n",
    "\n",
    "qdf <- Vectorize(inverse(cdf,lower=1, upper=2))\n",
    "\n",
    "rdf <- function(x){\n",
    "    return (qdf(runif(x)))\n",
    "}"
   ]
  },
  {
   "cell_type": "code",
   "execution_count": 18,
   "id": "demographic-conflict",
   "metadata": {},
   "outputs": [
    {
     "data": {
      "image/png": "[encoded data removed]",
      "text/plain": [
       "Plot with title \"Probability Distribution Function\""
      ]
     },
     "metadata": {},
     "output_type": "display_data"
    },
    {
     "data": {
      "image/png": "[encoded data removed]",
      "text/plain": [
       "Plot with title \"Cumulative Distribution Function\""
      ]
     },
     "metadata": {},
     "output_type": "display_data"
    }
   ],
   "source": [
    "x <- seq(0.5, 2.5, 0.0001)\n",
    "plot(x, pdf(x), xlab=\"x\" , ylab=\"f(x)\" ,main='Probability Distribution Function',\n",
    "     col='firebrick', ylim=c(0,1.5), type='l', lwd=2)\n",
    "plot(x, cdf(x), xlab=\"x\" , ylab=\"f(x)\" ,main='Cumulative Distribution Function',\n",
    "     col='firebrick', ylim=c(0,1), type='l', lwd=2)"
   ]
  },
  {
   "cell_type": "markdown",
   "id": "private-blink",
   "metadata": {},
   "source": [
    "### 5.3\n",
    "Evaluate the probability that the student will finish the aptitude test in more than 75 minutes. And that it will take 90 and 120 minutes."
   ]
  },
  {
   "cell_type": "code",
   "execution_count": 19,
   "id": "exotic-cigarette",
   "metadata": {},
   "outputs": [
    {
     "name": "stdout",
     "output_type": "stream",
     "text": [
      "Probability to take more than 75 minutes to do the exam:  84.375 \n",
      "Probability to take between 90 minutes and 120 minutes to do the exam:  50 \n"
     ]
    }
   ],
   "source": [
    "cat('Probability to take more than 75 minutes to do the exam: ', (1 - cdf(75/60))*100,'\\n')\n",
    "cat('Probability to take between 90 minutes and 120 minutes to do the exam: ', (cdf(120/60) - cdf(90/60))*100,'\\n')"
   ]
  },
  {
   "cell_type": "markdown",
   "id": "passive-scholarship",
   "metadata": {},
   "source": [
    "# Ex 6"
   ]
  },
  {
   "cell_type": "markdown",
   "id": "active-northwest",
   "metadata": {},
   "source": [
    "The lifetime of tires sold by an used tires shop is $10^4$x km, where x is a random variable following the distribution function."
   ]
  },
  {
   "cell_type": "code",
   "execution_count": 20,
   "id": "mounted-advocacy",
   "metadata": {},
   "outputs": [],
   "source": [
    "lambda = 1/10^4"
   ]
  },
  {
   "cell_type": "markdown",
   "id": "seasonal-mountain",
   "metadata": {},
   "source": [
    "### 6.1\n",
    "Write the set of four R functions and plot the pdf and cdf, respectively."
   ]
  },
  {
   "cell_type": "code",
   "execution_count": 21,
   "id": "turkish-scenario",
   "metadata": {},
   "outputs": [],
   "source": [
    "pdf <- function(x) {\n",
    "    ifelse(x>1 & x<2,\n",
    "          2/x^2,\n",
    "          0)\n",
    "}\n",
    "\n",
    "cdf <- function(x) {\n",
    "    ifelse(x>1 & x<2,\n",
    "            2 - 2/x,\n",
    "          ifelse(x <=1,\n",
    "                0,\n",
    "                1))\n",
    "}\n",
    "\n",
    "qdf <- Vectorize(inverse(cdf,lower=1, upper=2))\n",
    "\n",
    "rdf <- function(x){\n",
    "    return (qdf(runif(x)))\n",
    "}"
   ]
  },
  {
   "cell_type": "code",
   "execution_count": 22,
   "id": "linear-volunteer",
   "metadata": {},
   "outputs": [
    {
     "data": {
      "image/png": "[encoded data removed]",
      "text/plain": [
       "Plot with title \"Probability Distribution Function\""
      ]
     },
     "metadata": {},
     "output_type": "display_data"
    },
    {
     "data": {
      "image/png": "[encoded data removed]",
      "text/plain": [
       "Plot with title \"Cumulative Distribution Function\""
      ]
     },
     "metadata": {},
     "output_type": "display_data"
    }
   ],
   "source": [
    "x <- seq(0.5, 2.5, 0.0001)\n",
    "plot(x, pdf(x), xlab=\"x\" , ylab=\"f(x)\" ,main='Probability Distribution Function',\n",
    "     col='firebrick', ylim=c(0,2), type='l', lwd=2)\n",
    "plot(x, cdf(x), xlab=\"x\" , ylab=\"f(x)\" ,main='Cumulative Distribution Function',\n",
    "     col='firebrick', ylim=c(0,1), type='l', lwd=2)"
   ]
  },
  {
   "cell_type": "markdown",
   "id": "above-chance",
   "metadata": {},
   "source": [
    "### 6.2\n",
    "Determine the probability that tires will last less than 15000 km."
   ]
  },
  {
   "cell_type": "code",
   "execution_count": 23,
   "id": "subtle-smooth",
   "metadata": {},
   "outputs": [
    {
     "name": "stdout",
     "output_type": "stream",
     "text": [
      "Probability that tires will last less than 15000 km:  66.66667 \n"
     ]
    }
   ],
   "source": [
    "cat('Probability that tires will last less than 15000 km: ', (cdf(15000*lambda))*100,'\\n')"
   ]
  },
  {
   "cell_type": "markdown",
   "id": "preceding-startup",
   "metadata": {},
   "source": [
    "### 6.3\n",
    "Sample 3000 random variables from the distribution and determine the mean value\n",
    "and the variance, using the expression Var(X) = E[$x^2$] - E$[x]^2$"
   ]
  },
  {
   "cell_type": "code",
   "execution_count": 24,
   "id": "quality-armenia",
   "metadata": {},
   "outputs": [
    {
     "name": "stdout",
     "output_type": "stream",
     "text": [
      "Mean value:  1.385926 \n",
      "Variance:  0.07712922 \n"
     ]
    }
   ],
   "source": [
    "rand <- rdf(3000)\n",
    "\n",
    "cat('Mean value: ',mean(rand),'\\n')\n",
    "cat('Variance: ',mean(rand^2) - mean(rand)^2,'\\n')"
   ]
  }
 ],
 "metadata": {
  "kernelspec": {
   "display_name": "R [conda env:rstudio]",
   "language": "R",
   "name": "conda-env-rstudio-r"
  },
  "language_info": {
   "codemirror_mode": "r",
   "file_extension": ".r",
   "mimetype": "text/x-r-source",
   "name": "R",
   "pygments_lexer": "r",
   "version": "3.6.1"
  }
 },
 "nbformat": 4,
 "nbformat_minor": 5
}
