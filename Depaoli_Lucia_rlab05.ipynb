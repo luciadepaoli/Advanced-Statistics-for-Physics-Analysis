{
 "cells": [
  {
   "cell_type": "markdown",
   "id": "continued-imagination",
   "metadata": {},
   "source": [
    "# Lucia Depaoli\n",
    "# 2016960"
   ]
  },
  {
   "cell_type": "markdown",
   "id": "excess-detail",
   "metadata": {},
   "source": [
    "# Ex 1\n",
    "A publishing company has recently launched a new journal. In order to determine how effective it is in reaching its possible audience, a market survey company selects a random sample of people from a possible target audience and interviews them. Out of $150$ interviewed people, $29$ have read the last issue of the journal."
   ]
  },
  {
   "cell_type": "markdown",
   "id": "involved-practitioner",
   "metadata": {},
   "source": [
    "### 1.1\n",
    "What kind of distribution would you assume for $y$, the number of people that have seen the last issue of the journal?\n",
    "\n",
    "I would assume a binomial distribution."
   ]
  },
  {
   "cell_type": "code",
   "execution_count": 1,
   "id": "unique-producer",
   "metadata": {
    "scrolled": false
   },
   "outputs": [],
   "source": [
    "N <- 150\n",
    "k <- 29\n",
    "parameter <- seq(0, 1, by = 0.001)\n",
    "n <- length(parameter)\n",
    "delta <- 1/n\n",
    "\n",
    "likelihood <- dbinom(k, size = N, prob = parameter)"
   ]
  },
  {
   "cell_type": "markdown",
   "id": "united-assessment",
   "metadata": {},
   "source": [
    "### 1.2\n",
    "Assuming a uniform prior, what is the posterior distribution for $y$?"
   ]
  },
  {
   "cell_type": "code",
   "execution_count": 2,
   "id": "south-coast",
   "metadata": {},
   "outputs": [],
   "source": [
    "prior <- dbeta(parameter, 1, 1)\n",
    "\n",
    "num <- likelihood * prior\n",
    "den <- sum(num) * delta\n",
    "posterior <- num / den"
   ]
  },
  {
   "cell_type": "markdown",
   "id": "advisory-parameter",
   "metadata": {},
   "source": [
    "### 1.3 \n",
    "Plot both posterior and likelihood ditributions functions.\n",
    "\n",
    "They are the same plot just with different scales because of the uniform prior."
   ]
  },
  {
   "cell_type": "code",
   "execution_count": 3,
   "id": "delayed-privilege",
   "metadata": {},
   "outputs": [
    {
     "data": {
      "image/png": "[encoded data removed]",
      "text/plain": [
       "plot without title"
      ]
     },
     "metadata": {},
     "output_type": "display_data"
    }
   ],
   "source": [
    "options(repr.plot.width = 10, repr.plot.height = 6)\n",
    "par(mfrow=c(1,2))\n",
    "plot(parameter, likelihood, type=\"l\", col=\"firebrick\",lwd=2,lty=2, \n",
    "     ylab=\"Likelihood\", xlab=\"Probability of success\", xlim=c(0,1), ylim=c(0,0.1))\n",
    "grid()\n",
    "\n",
    "plot(parameter, posterior, type=\"l\",col=\"blue4\",lwd=2,lty=1,\n",
    "     ylab=\"Posterior\", xlab=\"Probability of success\", xlim=c(0,1), ylim=c(0,13))\n",
    "grid()"
   ]
  },
  {
   "cell_type": "markdown",
   "id": "gross-cooperative",
   "metadata": {},
   "source": [
    "# Ex 2\n",
    "Three students want to construct their prior probability about the proportion of residents that support the building of a new concert hall in their small town.\n",
    "\n",
    "Anna thinks that her prior is a beta distribution with mean $0.2$ and a standard deviation of $0.08$.\\\n",
    "Benny moved only recently to this new town and therefore he does non have the slightest idea about it. Therefore he decides to use a uniform prior.\\\n",
    "Chris believes that his prior should have a trapezoidal shape."
   ]
  },
  {
   "cell_type": "markdown",
   "id": "valuable-retailer",
   "metadata": {},
   "source": [
    "### 2.1\n",
    "Draw and compare the three prior distributions."
   ]
  },
  {
   "cell_type": "markdown",
   "id": "streaming-geology",
   "metadata": {},
   "source": [
    "Function to estimate beta parameters given mean and variance."
   ]
  },
  {
   "cell_type": "code",
   "execution_count": 4,
   "id": "fantastic-image",
   "metadata": {},
   "outputs": [],
   "source": [
    "beta_params <- function(mu, var) {\n",
    "    alpha <- ((1-mu)/var - 1/mu)*mu^2\n",
    "    beta <- alpha*(1/mu - 1)\n",
    "    return (c(alpha,beta))\n",
    "}\n",
    "ab <- beta_params(0.2, 0.08^2)"
   ]
  },
  {
   "cell_type": "code",
   "execution_count": 5,
   "id": "afraid-amount",
   "metadata": {},
   "outputs": [],
   "source": [
    "parameter <- seq(0, 1, by = 0.001)\n",
    "n <- length(parameter)\n",
    "delta <- 1/n\n",
    "\n",
    "prior_anna <- dbeta(parameter, ab[1], ab[2])\n",
    "prior_benny <- dbeta(parameter, 1, 1)\n",
    "prior_chris <- function(x){\n",
    "    ifelse(0 <= x & x < 0.1,\n",
    "          20*x,\n",
    "          ifelse(0.1 <= x & x < 0.3,\n",
    "                2,\n",
    "                ifelse(0.3 <=x & x < 0.5,\n",
    "                      5 - 10*x,\n",
    "                      0)))\n",
    "}"
   ]
  },
  {
   "cell_type": "code",
   "execution_count": 6,
   "id": "widespread-convenience",
   "metadata": {},
   "outputs": [
    {
     "data": {
      "image/png": "[encoded data removed]",
      "text/plain": [
       "plot without title"
      ]
     },
     "metadata": {},
     "output_type": "display_data"
    }
   ],
   "source": [
    "plot(parameter, prior_anna, type=\"l\", col=\"firebrick\", lwd=2, lty=2, ylab=\"Prior\", xlab=\"Probability of success\")\n",
    "lines(parameter, prior_benny, type=\"l\", col=\"blue4\", lwd=2, lty=2)\n",
    "lines(parameter, prior_chris(parameter), type=\"l\", col=\"green4\", lwd=2, lty=2)\n",
    "legend(\"topright\", c(\"Prior Anna\", \"Prior Benny\", 'Prior Chris'), col=c('firebrick', 'blue4', 'green4'), lwd=2, lty=2)\n",
    "grid()"
   ]
  },
  {
   "cell_type": "markdown",
   "id": "outer-rough",
   "metadata": {},
   "source": [
    "The next day the three students decide to interview a sample of $100$ citizens of the small town, asking for their opinion. Out of the interviewed sample, 26 support the building of the new concert hall."
   ]
  },
  {
   "cell_type": "markdown",
   "id": "lyric-drilling",
   "metadata": {},
   "source": [
    "### 2.2\n",
    "Evaluate and draw the three posterior distributions."
   ]
  },
  {
   "cell_type": "code",
   "execution_count": 7,
   "id": "hindu-business",
   "metadata": {},
   "outputs": [],
   "source": [
    "N <- 100\n",
    "k <- 26\n",
    "\n",
    "likelihood <- dbinom(k, size = N, prob = parameter)\n",
    "\n",
    "num <- likelihood * prior_anna\n",
    "den <- sum(num) * delta\n",
    "posterior_anna <- num / den\n",
    "\n",
    "num <- likelihood * prior_benny\n",
    "den <- sum(num) * delta\n",
    "posterior_benny <- num / den\n",
    "\n",
    "num <- likelihood * prior_chris(parameter)\n",
    "den <- sum(num) * delta\n",
    "posterior_chris <- num / den"
   ]
  },
  {
   "cell_type": "code",
   "execution_count": 8,
   "id": "similar-laundry",
   "metadata": {},
   "outputs": [
    {
     "data": {
      "image/png": "[encoded data removed]",
      "text/plain": [
       "plot without title"
      ]
     },
     "metadata": {},
     "output_type": "display_data"
    }
   ],
   "source": [
    "plot(parameter, posterior_anna, type=\"l\",col=\"firebrick\",lwd=2,lty=2,ylim=c(0,15), xlim=c(0,1), \n",
    "    ylab=\"Posterior\", xlab=\"Probability of success\")\n",
    "lines(parameter, posterior_benny, type=\"l\",col=\"blue4\",lwd=2,lty=2,ylim=c(0,15), xlim=c(0,1))\n",
    "lines(parameter, posterior_chris, type=\"l\",col=\"green4\",lwd=2,lty=2,ylim=c(0,15), xlim=c(0,1))\n",
    "legend(\"topright\", c(\"Posterior Anna\", \"Posterior Benny\", 'Posterior Chris'), col=c('firebrick', 'blue4', 'green4'),\n",
    "       lwd=2, lty=2)\n",
    "grid()"
   ]
  },
  {
   "cell_type": "markdown",
   "id": "actual-hindu",
   "metadata": {},
   "source": [
    "### 2.3\n",
    "Give an estimate of the most probable value and the $95$% credibility interval.\n",
    "\n",
    "In order to do this, I evaluated the cumsum of the posteriors and find the index of the last value that is outside the $95$% region."
   ]
  },
  {
   "cell_type": "code",
   "execution_count": 9,
   "id": "fallen-evening",
   "metadata": {},
   "outputs": [
    {
     "name": "stdout",
     "output_type": "stream",
     "text": [
      "Anna most probable value of the posterior is:  0.244 \n",
      "Benny most probable value of the posterior is:  0.26 \n",
      "Chris most probable value of the posterior is:  0.26 \n"
     ]
    }
   ],
   "source": [
    "x1_anna <- parameter[tail(which(cumsum(posterior_anna)/sum(posterior_anna) < 0.025),1)]\n",
    "x2_anna <- parameter[tail(which(cumsum(posterior_anna)/sum(posterior_anna) < 1- 0.025),1)]\n",
    "xmax_anna <- parameter[which.max(posterior_anna)]\n",
    "cat('Anna most probable value of the posterior is: ',xmax_anna,'\\n')\n",
    "\n",
    "x1_benny <- parameter[tail(which(cumsum(posterior_benny)/sum(posterior_benny) < 0.025),1)]\n",
    "x2_benny <- parameter[tail(which(cumsum(posterior_benny)/sum(posterior_benny) < 1- 0.025),1)]\n",
    "xmax_benny <- parameter[which.max(posterior_benny)]\n",
    "cat('Benny most probable value of the posterior is: ',xmax_benny,'\\n')\n",
    "\n",
    "x1_chris <- parameter[tail(which(cumsum(posterior_chris)/sum(posterior_chris) < 0.025),1)]\n",
    "x2_chris <- parameter[tail(which(cumsum(posterior_chris)/sum(posterior_chris) < 1- 0.025),1)]\n",
    "xmax_chris <- parameter[which.max(posterior_chris)]\n",
    "cat('Chris most probable value of the posterior is: ',xmax_chris,'\\n')"
   ]
  },
  {
   "cell_type": "code",
   "execution_count": 10,
   "id": "hindu-catalog",
   "metadata": {},
   "outputs": [
    {
     "data": {
      "image/png": "[encoded data removed]",
      "text/plain": [
       "plot without title"
      ]
     },
     "metadata": {},
     "output_type": "display_data"
    }
   ],
   "source": [
    "options(repr.plot.width = 10, repr.plot.height = 4)\n",
    "par(mfrow=c(1,3))\n",
    "\n",
    "plot(parameter, posterior_anna, type=\"l\",col=\"firebrick\",lwd=2,lty=2,ylim=c(0,12), xlim=c(0,1),\n",
    "    ylab=\"Posterior\", xlab=\"Probability of success\")\n",
    "abline(v=x1_anna, lty=3,col='black')\n",
    "abline(v=x2_anna, lty=3,col='black')\n",
    "abline(v=xmax_anna, lty=2,col='black')\n",
    "legend(\"topright\", \"Posterior Anna\", col='firebrick',\n",
    "       lwd=2, lty=2)\n",
    "polygon(c(parameter[parameter >= x1_anna & parameter <= x2_anna], x2_anna, x1_anna),\n",
    "        c(posterior_anna[parameter >= x1_anna & parameter <= x2_anna], 0, 0),\n",
    "        col=rgb(1,0,0,0.5))\n",
    "grid()\n",
    "\n",
    "plot(parameter, posterior_benny, type=\"l\", col=\"blue4\",lwd=2,lty=2,ylim=c(0,12), xlim=c(0,1),\n",
    "    ylab=\"Posterior\", xlab=\"Probability of success\")\n",
    "abline(v=x1_benny, lty=3,col='black')\n",
    "abline(v=x2_benny, lty=3,col='black')\n",
    "abline(v=xmax_benny, lty=2,col='black')\n",
    "legend(\"topright\", \"Posterior Benny\", col='blue4',\n",
    "       lwd=2, lty=2)\n",
    "polygon(c(parameter[parameter >= x1_benny & parameter <= x2_benny], x2_benny, x1_benny),\n",
    "        c(posterior_benny[parameter >= x1_benny & parameter <= x2_benny], 0, 0),\n",
    "        col=rgb(0,0,1,0.5))\n",
    "grid()\n",
    "\n",
    "plot(parameter, posterior_chris, type=\"l\",col=\"green4\",lwd=2,lty=2,ylim=c(0,12), xlim=c(0,1),\n",
    "    ylab=\"Posterior\", xlab=\"Probability of success\")\n",
    "abline(v=x1_chris, lty=3,col='black')\n",
    "abline(v=x2_chris, lty=3,col='black')\n",
    "abline(v=xmax_chris, lty=2,col='black')\n",
    "legend(\"topright\", \"Posterior Chris\", col='green4',\n",
    "       lwd=2, lty=2)\n",
    "polygon(c(parameter[parameter >= x1_chris & parameter <= x2_chris], x2_chris, x1_chris),\n",
    "        c(posterior_chris[parameter >= x1_chris & parameter <= x2_chris], 0, 0),\n",
    "        col=rgb(0,1,0,0.5))\n",
    "grid()"
   ]
  },
  {
   "cell_type": "markdown",
   "id": "residential-explosion",
   "metadata": {},
   "source": [
    "# Ex 3\n",
    "A coin is flipped $n = 30$ times with the following outcomes:\n",
    "T, T, T, T, T, H, T, T, H, H, T, T, H, H, H, T, H, T, H, T, H, H, T, H, T, H, T, H, H, H"
   ]
  },
  {
   "cell_type": "markdown",
   "id": "athletic-alberta",
   "metadata": {},
   "source": [
    "### 3.1\n",
    "Assuming a flat prior, and a beta prior, plot the likelihood, prior and posterior distributions for the data set."
   ]
  },
  {
   "cell_type": "code",
   "execution_count": 11,
   "id": "ordinary-shopper",
   "metadata": {},
   "outputs": [],
   "source": [
    "N <- 30\n",
    "t <- 15\n",
    "\n",
    "parameter <- seq(0, 1, by = 0.001)\n",
    "n <- length(parameter)\n",
    "delta <- 1/n\n",
    "\n",
    "prior_flat <- dbeta(parameter, 1, 1)\n",
    "prior_beta <- dbeta(parameter, 2, 7) #beta at random\n",
    "\n",
    "likelihood <- dbinom(t, size = N, prob = parameter)\n",
    "\n",
    "num <- likelihood * prior_flat\n",
    "den <- sum(num) * delta\n",
    "posterior_flat <- num / den\n",
    "\n",
    "num <- likelihood * prior_beta\n",
    "den <- sum(num) * delta\n",
    "posterior_beta <- num / den"
   ]
  },
  {
   "cell_type": "code",
   "execution_count": 12,
   "id": "monthly-sixth",
   "metadata": {},
   "outputs": [
    {
     "data": {
      "image/png": "[encoded data removed]",
      "text/plain": [
       "plot without title"
      ]
     },
     "metadata": {},
     "output_type": "display_data"
    },
    {
     "data": {
      "image/png": "[encoded data removed]",
      "text/plain": [
       "plot without title"
      ]
     },
     "metadata": {},
     "output_type": "display_data"
    }
   ],
   "source": [
    "options(repr.plot.width = 10, repr.plot.height = 4)\n",
    "par(mfrow=c(1,3))\n",
    "\n",
    "plot(parameter, prior_flat,type=\"l\",col=\"firebrick\",lwd=2,lty=2,ylim=c(0,4),\n",
    "    ylab=\"Prior\", xlab=\"Probability of success\")\n",
    "lines(parameter, prior_beta,type=\"l\",col=\"blue4\",lwd=2,lty=2)\n",
    "legend(\"topright\", c(\"Flat prior\", \"Beta prior\"), col=c('firebrick', 'blue4'),\n",
    "       lwd=2, lty=2)\n",
    "grid()\n",
    "\n",
    "plot(parameter, likelihood,type=\"l\",col=\"black\",lwd=1,lty=2,ylim=c(0,0.2),\n",
    "    ylab=\"Likelihood\", xlab=\"Probability of success\")\n",
    "legend(\"topright\", \"Likelihood\", col='black',\n",
    "       lwd=1, lty=2)\n",
    "grid()\n",
    "\n",
    "plot(parameter, posterior_flat, type=\"l\",col=\"firebrick\",lwd=2,lty=1,ylim=c(0,6), xlim=c(0,1),\n",
    "    ylab=\"Posterior\", xlab=\"Probability of success\")\n",
    "lines(parameter, posterior_beta, type=\"l\",col=\"blue4\",lwd=2,lty=1)\n",
    "legend(\"topright\", c(\"Flat posterior\", \"Beta posterior\"), col=c('firebrick', 'blue4'),\n",
    "       lwd=2, lty=1)\n",
    "grid()\n",
    "\n",
    "options(repr.plot.width = 10, repr.plot.height = 6)\n",
    "par(mfrow=c(1,1))\n",
    "\n",
    "plot(parameter, prior_flat,type=\"l\",col=\"firebrick\",lwd=2,lty=2,ylim=c(0,6),\n",
    "    ylab=\"Prior, posterior, likelihood\", xlab=\"Probability of success\")\n",
    "lines(parameter, prior_beta,type=\"l\",col=\"blue4\",lwd=2,lty=2)\n",
    "lines(parameter, likelihood,type=\"l\",col=\"black\",lwd=1,lty=2)\n",
    "lines(parameter, posterior_flat, type=\"l\",col=\"firebrick\",lwd=2,lty=1)\n",
    "lines(parameter, posterior_beta, type=\"l\",col=\"blue4\",lwd=2,lty=1)\n",
    "\n",
    "legend(\"topright\", c(\"Flat prior\", \"Beta prior\", 'Likelihood',\n",
    "                    \"Flat posterior\", \"Beta posterior\"), col=c('firebrick', 'blue4','black','firebrick', 'blue4'),\n",
    "       lwd=c(2,2,1,2,2), lty=c(2,2,2,1,1))\n",
    "grid()"
   ]
  },
  {
   "cell_type": "markdown",
   "id": "subject-instrument",
   "metadata": {},
   "source": [
    "### 3.2\n",
    "Evaluate the most probable value for the coin probability p and, integrating the posterior probability distribution, give an estimate for a $95$% credibility interval."
   ]
  },
  {
   "cell_type": "code",
   "execution_count": 13,
   "id": "consolidated-rugby",
   "metadata": {},
   "outputs": [
    {
     "name": "stdout",
     "output_type": "stream",
     "text": [
      "x1 flat:  0.33 \n",
      "x2 flat:  0.668 \n",
      "Most probable value of the flat posterior is:  0.5 \n",
      "x1 beta:  0.285 \n",
      "x2 beta:  0.591 \n",
      "Most probable value of the beta posterior is:  0.432 \n"
     ]
    }
   ],
   "source": [
    "x1_flat <- parameter[tail(which(cumsum(posterior_flat)/sum(posterior_flat) < 0.025),1)]\n",
    "x2_flat <- parameter[tail(which(cumsum(posterior_flat)/sum(posterior_flat) < 1- 0.025),1)]\n",
    "xmax_flat <- parameter[which.max(posterior_flat)]\n",
    "cat('x1 flat: ',x1_flat,'\\n')\n",
    "cat('x2 flat: ',x2_flat,'\\n')\n",
    "cat('Most probable value of the flat posterior is: ',xmax_flat,'\\n')\n",
    "\n",
    "x1_beta <- parameter[tail(which(cumsum(posterior_beta)/sum(posterior_beta) < 0.025),1)]\n",
    "x2_beta <- parameter[tail(which(cumsum(posterior_beta)/sum(posterior_beta) < 1- 0.025),1)]\n",
    "xmax_beta <- parameter[which.max(posterior_beta)]\n",
    "cat('x1 beta: ',x1_beta,'\\n')\n",
    "cat('x2 beta: ',x2_beta,'\\n')\n",
    "cat('Most probable value of the beta posterior is: ',xmax_beta,'\\n')"
   ]
  },
  {
   "cell_type": "code",
   "execution_count": 14,
   "id": "common-dining",
   "metadata": {},
   "outputs": [
    {
     "data": {
      "image/png": "[encoded data removed]",
      "text/plain": [
       "plot without title"
      ]
     },
     "metadata": {},
     "output_type": "display_data"
    }
   ],
   "source": [
    "options(repr.plot.width = 10, repr.plot.height = 5)\n",
    "par(mfrow=c(1,2))\n",
    "\n",
    "plot(parameter, posterior_flat, type=\"l\",col=\"firebrick\",lwd=2,lty=2,ylim=c(0,12), xlim=c(0,1),\n",
    "    ylab=\"Flat posterior\", xlab=\"Probability of success\")\n",
    "abline(v=x1_flat, lty=3,col='black')\n",
    "abline(v=x2_flat, lty=3,col='black')\n",
    "abline(v=xmax_flat, lty=2,col='black')\n",
    "polygon(c(parameter[parameter >= x1_flat & parameter <= x2_flat], x2_flat, x1_flat),\n",
    "        c(posterior_flat[parameter >= x1_flat & parameter <= x2_flat], 0, 0),\n",
    "        col=rgb(1,0,0,0.5))\n",
    "grid()\n",
    "\n",
    "plot(parameter, posterior_beta, type=\"l\",col=\"blue4\",lwd=2,lty=2,ylim=c(0,12), xlim=c(0,1),\n",
    "    ylab=\"Beta posterior\", xlab=\"Probability of success\")\n",
    "abline(v=x1_beta, lty=3,col='black')\n",
    "abline(v=x2_beta, lty=3,col='black')\n",
    "abline(v=xmax_beta, lty=2,col='black')\n",
    "polygon(c(parameter[parameter >= x1_beta & parameter <= x2_beta], x2_beta, x1_beta),\n",
    "        c(posterior_beta[parameter >= x1_beta & parameter <= x2_beta], 0, 0),\n",
    "        col=rgb(0,0,1,0.5))\n",
    "grid()"
   ]
  },
  {
   "cell_type": "markdown",
   "id": "polished-module",
   "metadata": {},
   "source": [
    "### 3.3\n",
    "Repeat the same analysis assuming a sequential analysis of the data. Show how the most probable value and the credibility interval change as a function of the number of coin tosses (i.e. from $1$ to $30$)."
   ]
  },
  {
   "cell_type": "code",
   "execution_count": 15,
   "id": "revised-logan",
   "metadata": {},
   "outputs": [],
   "source": [
    "tosses <- c('t','t','t','t','t','h','t','t','h','h','t','t','h','h','h','t','h','t','h','t','h','h','t','h','t','h','t','h',\n",
    "           'h','h')"
   ]
  },
  {
   "cell_type": "code",
   "execution_count": 16,
   "id": "regulation-solid",
   "metadata": {},
   "outputs": [],
   "source": [
    "sequential_analysis <- function(tosses){\n",
    "    tails <- NULL\n",
    "    heads <- NULL\n",
    "    \n",
    "    parameter <- seq(0, 1, by = 0.001)\n",
    "    n <- length(parameter)\n",
    "    delta.p <- 1/n\n",
    "    \n",
    "    prior_flat <- dbeta(parameter, 1, 1)\n",
    "    prior_beta <- dbeta(parameter, 2, 7)\n",
    "\n",
    "    for (i in 1:length(tosses)){\n",
    "        if (tosses[i]=='t'){\n",
    "            tails <- c(tails, tosses[i])\n",
    "        }\n",
    "        else{\n",
    "            heads <- c(heads, tosses[i])\n",
    "        }\n",
    "        \n",
    "        N <- i\n",
    "        t <- length(tails)\n",
    "        \n",
    "        likelihood <- dbinom(t, size = N, prob = parameter)\n",
    "        \n",
    "        num <- likelihood * prior_flat\n",
    "        den <- sum(num) * delta\n",
    "        posterior_flat <- num / den\n",
    "\n",
    "        num <- likelihood * prior_beta\n",
    "        den <- sum(num) * delta\n",
    "        posterior_beta <- num / den\n",
    "        \n",
    "        x1_flat <- parameter[tail(which(cumsum(posterior_flat)/sum(posterior_flat) < 0.025),1)]\n",
    "        x2_flat <- parameter[tail(which(cumsum(posterior_flat)/sum(posterior_flat) < 1- 0.025),1)]\n",
    "        xmax_flat <- parameter[which.max(posterior_flat)]\n",
    "        cat('x1 flat: ',x1_flat,'\\n')\n",
    "        cat('x2 flat: ',x2_flat,'\\n')\n",
    "        cat('xmax flat: ',xmax_flat,'\\n')\n",
    "\n",
    "        x1_beta <- parameter[tail(which(cumsum(posterior_beta)/sum(posterior_beta) < 0.025),1)]\n",
    "        x2_beta <- parameter[tail(which(cumsum(posterior_beta)/sum(posterior_beta) < 1- 0.025),1)]\n",
    "        xmax_beta <- parameter[which.max(posterior_beta)]\n",
    "        cat('x1 beta: ',x1_beta,'\\n')\n",
    "        cat('x2 beta: ',x2_beta,'\\n')\n",
    "        cat('xmax beta: ',xmax_beta,'\\n')\n",
    "    }\n",
    "}"
   ]
  },
  {
   "cell_type": "code",
   "execution_count": 17,
   "id": "ceramic-treatment",
   "metadata": {},
   "outputs": [
    {
     "name": "stdout",
     "output_type": "stream",
     "text": [
      "x1 flat:  0.157 \n",
      "x2 flat:  0.987 \n",
      "xmax flat:  1 \n",
      "x1 beta:  0.074 \n",
      "x2 beta:  0.599 \n",
      "xmax beta:  0.25 \n",
      "x1 flat:  0.292 \n",
      "x2 flat:  0.991 \n",
      "xmax flat:  1 \n",
      "x1 beta:  0.121 \n",
      "x2 beta:  0.651 \n",
      "xmax beta:  0.333 \n",
      "x1 flat:  0.397 \n",
      "x2 flat:  0.993 \n",
      "xmax flat:  1 \n",
      "x1 beta:  0.166 \n",
      "x2 beta:  0.691 \n",
      "xmax beta:  0.4 \n",
      "x1 flat:  0.477 \n",
      "x2 flat:  0.994 \n",
      "xmax flat:  1 \n",
      "x1 beta:  0.21 \n",
      "x2 beta:  0.722 \n",
      "xmax beta:  0.455 \n",
      "x1 flat:  0.54 \n",
      "x2 flat:  0.995 \n",
      "xmax flat:  1 \n",
      "x1 beta:  0.25 \n",
      "x2 beta:  0.748 \n",
      "xmax beta:  0.5 \n",
      "x1 flat:  0.42 \n",
      "x2 flat:  0.962 \n",
      "xmax flat:  0.833 \n",
      "x1 beta:  0.229 \n",
      "x2 beta:  0.71 \n",
      "xmax beta:  0.462 \n",
      "x1 flat:  0.472 \n",
      "x2 flat:  0.967 \n",
      "xmax flat:  0.857 \n",
      "x1 beta:  0.265 \n",
      "x2 beta:  0.733 \n",
      "xmax beta:  0.5 \n",
      "x1 flat:  0.517 \n",
      "x2 flat:  0.971 \n",
      "xmax flat:  0.875 \n",
      "x1 beta:  0.298 \n",
      "x2 beta:  0.752 \n",
      "xmax beta:  0.533 \n",
      "x1 flat:  0.443 \n",
      "x2 flat:  0.932 \n",
      "xmax flat:  0.778 \n",
      "x1 beta:  0.277 \n",
      "x2 beta:  0.721 \n",
      "xmax beta:  0.5 \n",
      "x1 flat:  0.389 \n",
      "x2 flat:  0.89 \n",
      "xmax flat:  0.7 \n",
      "x1 beta:  0.259 \n",
      "x2 beta:  0.691 \n",
      "xmax beta:  0.471 \n",
      "x1 flat:  0.427 \n",
      "x2 flat:  0.9 \n",
      "xmax flat:  0.727 \n",
      "x1 beta:  0.288 \n",
      "x2 beta:  0.71 \n",
      "xmax beta:  0.5 \n",
      "x1 flat:  0.461 \n",
      "x2 flat:  0.908 \n",
      "xmax flat:  0.75 \n",
      "x1 beta:  0.314 \n",
      "x2 beta:  0.727 \n",
      "xmax beta:  0.526 \n",
      "x1 flat:  0.418 \n",
      "x2 flat:  0.871 \n",
      "xmax flat:  0.692 \n",
      "x1 beta:  0.297 \n",
      "x2 beta:  0.701 \n",
      "xmax beta:  0.5 \n",
      "x1 flat:  0.383 \n",
      "x2 flat:  0.836 \n",
      "xmax flat:  0.643 \n",
      "x1 beta:  0.281 \n",
      "x2 beta:  0.677 \n",
      "xmax beta:  0.476 \n",
      "x1 flat:  0.353 \n",
      "x2 flat:  0.801 \n",
      "xmax flat:  0.6 \n",
      "x1 beta:  0.267 \n",
      "x2 beta:  0.654 \n",
      "xmax beta:  0.455 \n",
      "x1 flat:  0.382 \n",
      "x2 flat:  0.815 \n",
      "xmax flat:  0.625 \n",
      "x1 beta:  0.29 \n",
      "x2 beta:  0.671 \n",
      "xmax beta:  0.478 \n",
      "x1 flat:  0.356 \n",
      "x2 flat:  0.784 \n",
      "xmax flat:  0.588 \n",
      "x1 beta:  0.277 \n",
      "x2 beta:  0.65 \n",
      "xmax beta:  0.458 \n",
      "x1 flat:  0.383 \n",
      "x2 flat:  0.796 \n",
      "xmax flat:  0.611 \n",
      "x1 beta:  0.298 \n",
      "x2 beta:  0.665 \n",
      "xmax beta:  0.48 \n",
      "x1 flat:  0.36 \n",
      "x2 flat:  0.768 \n",
      "xmax flat:  0.579 \n",
      "x1 beta:  0.286 \n",
      "x2 beta:  0.646 \n",
      "xmax beta:  0.462 \n",
      "x1 flat:  0.383 \n",
      "x2 flat:  0.781 \n",
      "xmax flat:  0.6 \n",
      "x1 beta:  0.305 \n",
      "x2 beta:  0.66 \n",
      "xmax beta:  0.481 \n",
      "x1 flat:  0.363 \n",
      "x2 flat:  0.755 \n",
      "xmax flat:  0.571 \n",
      "x1 beta:  0.293 \n",
      "x2 beta:  0.642 \n",
      "xmax beta:  0.464 \n",
      "x1 flat:  0.344 \n",
      "x2 flat:  0.731 \n",
      "xmax flat:  0.545 \n",
      "x1 beta:  0.282 \n",
      "x2 beta:  0.625 \n",
      "xmax beta:  0.448 \n",
      "x1 flat:  0.365 \n",
      "x2 flat:  0.743 \n",
      "xmax flat:  0.565 \n",
      "x1 beta:  0.301 \n",
      "x2 beta:  0.639 \n",
      "xmax beta:  0.467 \n",
      "x1 flat:  0.348 \n",
      "x2 flat:  0.721 \n",
      "xmax flat:  0.542 \n",
      "x1 beta:  0.29 \n",
      "x2 beta:  0.622 \n",
      "xmax beta:  0.452 \n",
      "x1 flat:  0.368 \n",
      "x2 flat:  0.733 \n",
      "xmax flat:  0.56 \n",
      "x1 beta:  0.307 \n",
      "x2 beta:  0.635 \n",
      "xmax beta:  0.469 \n",
      "x1 flat:  0.352 \n",
      "x2 flat:  0.712 \n",
      "xmax flat:  0.538 \n",
      "x1 beta:  0.297 \n",
      "x2 beta:  0.62 \n",
      "xmax beta:  0.455 \n",
      "x1 flat:  0.371 \n",
      "x2 flat:  0.724 \n",
      "xmax flat:  0.556 \n",
      "x1 beta:  0.313 \n",
      "x2 beta:  0.633 \n",
      "xmax beta:  0.471 \n",
      "x1 flat:  0.356 \n",
      "x2 flat:  0.705 \n",
      "xmax flat:  0.536 \n",
      "x1 beta:  0.303 \n",
      "x2 beta:  0.618 \n",
      "xmax beta:  0.457 \n",
      "x1 flat:  0.342 \n",
      "x2 flat:  0.686 \n",
      "xmax flat:  0.517 \n",
      "x1 beta:  0.294 \n",
      "x2 beta:  0.604 \n",
      "xmax beta:  0.444 \n",
      "x1 flat:  0.33 \n",
      "x2 flat:  0.668 \n",
      "xmax flat:  0.5 \n",
      "x1 beta:  0.285 \n",
      "x2 beta:  0.591 \n",
      "xmax beta:  0.432 \n"
     ]
    }
   ],
   "source": [
    "sequential_analysis(tosses)"
   ]
  },
  {
   "cell_type": "markdown",
   "id": "constant-syndrome",
   "metadata": {},
   "source": [
    "### 3.4\n",
    "Do you get a different result, by analyzing the data sequentially with respect to a one-step analysis (i.e. considering all the data as a whole)?\n",
    "\n",
    "No, at the end I obtain the same results."
   ]
  }
 ],
 "metadata": {
  "kernelspec": {
   "display_name": "R [conda env:rstudio]",
   "language": "R",
   "name": "conda-env-rstudio-r"
  },
  "language_info": {
   "codemirror_mode": "r",
   "file_extension": ".r",
   "mimetype": "text/x-r-source",
   "name": "R",
   "pygments_lexer": "r",
   "version": "3.6.1"
  }
 },
 "nbformat": 4,
 "nbformat_minor": 5
}
