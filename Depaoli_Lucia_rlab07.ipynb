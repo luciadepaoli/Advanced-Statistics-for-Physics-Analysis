{
 "cells": [
  {
   "cell_type": "markdown",
   "id": "endless-rehabilitation",
   "metadata": {},
   "source": [
    "# Lucia Depaoli\n",
    "# 2016960"
   ]
  },
  {
   "cell_type": "markdown",
   "id": "waiting-bracelet",
   "metadata": {},
   "source": [
    "# Ex 1\n",
    "- A well established and diffused method for detecting a disease in blood fails to detect the presence\n",
    "of disease in $15$% of the patients that actually have the disease.\n",
    "- A young UniPD startUp has developed an innovative method of screening. During the qualification\n",
    "phase, a random sample of $n = 75$ patients known to have the disease is screened using the new\n",
    "method."
   ]
  },
  {
   "cell_type": "markdown",
   "id": "based-princess",
   "metadata": {},
   "source": [
    "### 1.1\n",
    "What is the probability distribution of $y$, the number of times the new method fails to detect the\n",
    "disease?\n",
    "\n",
    "Binomial distribution."
   ]
  },
  {
   "cell_type": "markdown",
   "id": "stock-knowing",
   "metadata": {},
   "source": [
    "### 1.2\n",
    "on the $n = 75$ patients sample, the new method fails to detect the disease in $y = 6$ cases. What is\n",
    "the frequentist estimator of the failure probability of the new method?"
   ]
  },
  {
   "cell_type": "code",
   "execution_count": 1,
   "id": "waiting-principal",
   "metadata": {},
   "outputs": [
    {
     "name": "stdout",
     "output_type": "stream",
     "text": [
      "Frequentist estimator of the failure probability:  8 %"
     ]
    }
   ],
   "source": [
    "P_F_D <- 0.15\n",
    "N = 75\n",
    "y = 6\n",
    "freq_est <- y/N\n",
    "cat('Frequentist estimator of the failure probability: ',freq_est*100,'%')"
   ]
  },
  {
   "cell_type": "markdown",
   "id": "cellular-mobile",
   "metadata": {},
   "source": [
    "### 1.3\n",
    "Setup a bayesian computation of the posterior probability, assuming a beta distribution with mean\n",
    "value $0.15$ and standard deviation $0.14$. Plot the posterior distribution for $y$, and mark on the plot\n",
    "the mean value and variance.\n",
    "\n",
    "If we start with a $Beta$ prior and we have a $Binomial$ likelihood, the posterior is a $Beta$."
   ]
  },
  {
   "cell_type": "code",
   "execution_count": 2,
   "id": "bound-strain",
   "metadata": {},
   "outputs": [
    {
     "data": {
      "image/png": "[encoded data removed]",
      "text/plain": [
       "plot without title"
      ]
     },
     "metadata": {},
     "output_type": "display_data"
    }
   ],
   "source": [
    "x <- seq(0.001,0.999,0.001)\n",
    "mu <- 0.15\n",
    "st <- 0.14\n",
    "delta <- 1/length(x)\n",
    "\n",
    "beta_params <- function(mu, var) {\n",
    "    alpha <- ((1-mu)/var - 1/mu)*mu^2\n",
    "    beta <- alpha*(1/mu - 1)\n",
    "    return (c(alpha,beta))\n",
    "}\n",
    "ab <- beta_params(mu, st^2)\n",
    "\n",
    "alpha <- ab[1] + y\n",
    "beta <- ab[2] + N - y\n",
    "posterior <- dbeta(x, alpha, beta)\n",
    "\n",
    "post_mu <- (alpha)/(alpha + beta)\n",
    "post_var <- alpha*beta/((alpha + beta)^2 * (alpha + beta + 1))\n",
    "post_st <- sqrt(post_var)\n",
    "\n",
    "options(repr.plot.width = 10, repr.plot.height = 6)\n",
    "\n",
    "plot(x, posterior, type=\"l\", col=\"firebrick\",lwd=2,lty=1, \n",
    "     ylab=\"Posterior\", xlab= expression(P_F_D) , xlim=c(0,1), ylim=c(0,15))\n",
    "abline(v=post_mu, lty=2,col='black')\n",
    "abline(v=post_mu - post_st, lty=3,col='black')\n",
    "abline(v=post_mu + post_st, lty=3,col='black')\n",
    "legend(\"topright\", c(\"Posterior beta prior\",'Mean value','Variance'), col=c('firebrick','black','black'),\n",
    "       lwd=2, lty=c(1,2,3),cex = 0.6)\n",
    "grid()"
   ]
  },
  {
   "cell_type": "markdown",
   "id": "complimentary-procedure",
   "metadata": {},
   "source": [
    "### 1.4\n",
    "Perform a test of hypothesis assuming that if the probability of failing to the detect the desease\n",
    "in ill patients is greater or equal than $15$%, the new test is no better that the traditional method.\n",
    "Test the sample at a $5$% level of significance in the Bayesian way."
   ]
  },
  {
   "cell_type": "code",
   "execution_count": 3,
   "id": "indirect-focus",
   "metadata": {},
   "outputs": [
    {
     "name": "stdout",
     "output_type": "stream",
     "text": [
      "Posterior probability:  3.127933 %\n",
      "Posterior probability is less that 5%, so we reject the null hypothesis."
     ]
    }
   ],
   "source": [
    "cat('Posterior probability: ',integrate(dbeta, shape1 = alpha, shape2 = beta, P_F_D, 1)$value * 100,'%\\n')\n",
    "cat('Posterior probability is less that 5%, so we reject the null hypothesis.')"
   ]
  },
  {
   "cell_type": "markdown",
   "id": "contained-corrections",
   "metadata": {},
   "source": [
    "### 1.5\n",
    "Perform the same hypothesis test in the classical frequentist way."
   ]
  },
  {
   "cell_type": "code",
   "execution_count": 5,
   "id": "numeric-chassis",
   "metadata": {},
   "outputs": [
    {
     "name": "stdout",
     "output_type": "stream",
     "text": [
      "Posterior probability:  2.342005 %\n",
      "Posterior probability is less that 5%, so we reject the null hypothesis."
     ]
    }
   ],
   "source": [
    "cat('Posterior probability: ',sum(dbinom(seq(0,y-1), N, P_F_D))* 100,'%\\n')\n",
    "cat('Posterior probability is less that 5%, so we reject the null hypothesis.')"
   ]
  },
  {
   "cell_type": "markdown",
   "id": "catholic-departure",
   "metadata": {},
   "source": [
    "# Ex 2"
   ]
  },
  {
   "cell_type": "markdown",
   "id": "hindu-toddler",
   "metadata": {},
   "source": [
    "Ladislaus Josephovich Bortkiewicz was a Russian economist and statistician. He noted that the\n",
    "Poisson distribution can be very useful in applied statistics when describing low-frequency events\n",
    "in a large population. In a famous example he showed that the number of deaths by horse kick\n",
    "among the Prussian army follows the Poisson distribution.\n",
    "\n",
    "Considering the following to sets of observations taken over a fixed large time interval in two different\n",
    "corps:"
   ]
  },
  {
   "cell_type": "code",
   "execution_count": 6,
   "id": "iraqi-giant",
   "metadata": {},
   "outputs": [],
   "source": [
    "n1 <- c(109, 65, 22, 3, 1, 0)\n",
    "n2 <- c(144, 91, 32, 11, 2, 0)\n",
    "N <- 6"
   ]
  },
  {
   "cell_type": "markdown",
   "id": "potential-sight",
   "metadata": {},
   "source": [
    "### 2.1\n",
    "Assuming a uniform prior, compute and plot the posterior distribution for $\\lambda$, the death rate over\n",
    "the measurement time. Determine the posterior mean, median and variance, and compute the $95$%\n",
    "credibility interval.\n",
    "\n",
    "I assume the posterior of the first set of observations as prior for the second set of obserations."
   ]
  },
  {
   "cell_type": "code",
   "execution_count": 35,
   "id": "recognized-result",
   "metadata": {},
   "outputs": [
    {
     "data": {
      "image/png": "[encoded data removed]",
      "text/plain": [
       "plot without title"
      ]
     },
     "metadata": {},
     "output_type": "display_data"
    }
   ],
   "source": [
    "lambda <- seq(0, 50, by = 0.001)\n",
    "\n",
    "n <- length(lambda)\n",
    "delta_lambda <- 1/n\n",
    "\n",
    "alpha1 <- sum(n1) + 1\n",
    "lambda1 <- N\n",
    "posterior_unif1 <- dgamma(x = lambda, shape = alpha1, rate = lambda1)\n",
    "\n",
    "alpha2 <- alpha1 + sum(n2)\n",
    "lambda2 <- lambda1 + N\n",
    "posterior_unif2 <- dgamma(x = lambda, shape = alpha2, rate = lambda2)\n",
    "\n",
    "options(repr.plot.width = 10, repr.plot.height = 6)\n",
    "par(mfrow=c(1,2))\n",
    "\n",
    "plot(lambda, posterior_unif1, type=\"l\", col=\"firebrick\",lwd=2,lty=1, \n",
    "     ylab=\"Posterior n1\", xlab= expression(lambda) , xlim=c(0,50), ylim=c(0,0.3))\n",
    "grid()\n",
    "plot(lambda, posterior_unif2, type=\"l\", col=\"firebrick\",lwd=2,lty=1, \n",
    "     ylab=\"Posterior n2+n1\", xlab= expression(lambda) , xlim=c(0,50), ylim=c(0,0.3))\n",
    "grid()"
   ]
  },
  {
   "cell_type": "code",
   "execution_count": 36,
   "id": "stone-inspector",
   "metadata": {},
   "outputs": [
    {
     "name": "stdout",
     "output_type": "stream",
     "text": [
      "Analytically Mean:  40.08333 \n",
      "Analytically Variance:  3.340278 \n",
      "Numerically Mean:  40.08333 \n",
      "Numerically Variance:  3.340255 \n",
      "Numerically Median:  40.056 \n"
     ]
    }
   ],
   "source": [
    "mediana <- function(post, delta, n, mu) {\n",
    "    area <- 0\n",
    "    for (i in 1:n){\n",
    "        k <- i\n",
    "        area <- area + sum(post[i])/sum(post)\n",
    "        if(area >= 1/2) {\n",
    "                break\n",
    "                      }\n",
    "            }\n",
    "    return(mu[i])\n",
    "}\n",
    "\n",
    "# analytically\n",
    "mean_unif <- alpha2 / lambda2\n",
    "var_unif <- alpha2 / lambda2^2\n",
    "cat('Analytically Mean: ',mean_unif,'\\n')\n",
    "cat('Analytically Variance: ',var_unif,'\\n')\n",
    "\n",
    "#numerically\n",
    "mean_unif <- sum(lambda*posterior_unif2)/sum(posterior_unif2)\n",
    "var_unif <- sum((lambda^2)*posterior_unif2/sum(posterior_unif2)) - mean_unif^2\n",
    "med_unif <- mediana(post = posterior_unif2, delta = delta_lambda, n = n, mu = lambda)\n",
    "cat('Numerically Mean: ',mean_unif,'\\n')\n",
    "cat('Numerically Variance: ',var_unif,'\\n')\n",
    "cat('Numerically Median: ',med_unif,'\\n')"
   ]
  },
  {
   "cell_type": "code",
   "execution_count": 37,
   "id": "racial-abortion",
   "metadata": {},
   "outputs": [
    {
     "data": {
      "image/png": "[encoded data removed]",
      "text/plain": [
       "plot without title"
      ]
     },
     "metadata": {},
     "output_type": "display_data"
    }
   ],
   "source": [
    "x1 <- lambda[tail(which(cumsum(posterior_unif2)/sum(posterior_unif2) < 0.025),1)]\n",
    "x2 <- lambda[tail(which(cumsum(posterior_unif2)/sum(posterior_unif2) < 1- 0.025),1)]\n",
    "xmax <- lambda[which.max(posterior_unif2)]\n",
    "\n",
    "options(repr.plot.width = 10, repr.plot.height = 6)\n",
    "par(mfrow=c(1,1))\n",
    "\n",
    "plot(lambda, posterior_unif2, type=\"l\",col=\"firebrick\",lwd=2,lty=1,ylim=c(0,0.3), xlim=c(0,50),\n",
    "    ylab=\"Posterior\", xlab= expression(mu))\n",
    "abline(v=x1, lty=3,col='black')\n",
    "abline(v=x2, lty=3,col='black')\n",
    "abline(v=mean_unif, lty=2,col='black')\n",
    "legend(\"topright\", c(\"Posterior uniform prior\",'Mean value','Variance'), col=c('firebrick','black','black'),\n",
    "       lwd=2, lty=c(1,2,3),cex = 0.6)\n",
    "polygon(c(lambda[lambda>=x1 & lambda<=x2], x2, x1), c(posterior_unif2[lambda>=x1 & lambda<=x2], 0, 0),\n",
    "        col=rgb(1,0,0,0.5))\n",
    "grid()"
   ]
  },
  {
   "cell_type": "markdown",
   "id": "brilliant-converter",
   "metadata": {},
   "source": [
    "### 2.2\n",
    "assuming now a Jeffreys' prior,\n",
    "\n",
    "$g(\\lambda) \\propto 1/\\sqrt(\\lambda)$\n",
    "\n",
    "compute and plot the posterior distribution for $\\lambda$, the death rate over the measurement time.\n",
    "Determine the posterior mean, median and variance, and compute the $95$% credibility interval."
   ]
  },
  {
   "cell_type": "code",
   "execution_count": 38,
   "id": "incredible-entity",
   "metadata": {},
   "outputs": [
    {
     "data": {
      "image/png": "[encoded data removed]",
      "text/plain": [
       "plot without title"
      ]
     },
     "metadata": {},
     "output_type": "display_data"
    }
   ],
   "source": [
    "alpha1_jeff <- sum(n1) + 1/2\n",
    "lambda1_jeff <- N\n",
    "posterior_unif1_jeff <- dgamma(x = lambda, shape = alpha1_jeff, rate = lambda1_jeff)\n",
    "alpha2_jeff <- alpha1_jeff + sum(n2)\n",
    "lambda2_jeff <- lambda1_jeff + N\n",
    "posterior_unif2_jeff <- dgamma(x = lambda, shape = alpha2_jeff, rate = lambda2_jeff)\n",
    "\n",
    "options(repr.plot.width = 10, repr.plot.height = 6)\n",
    "par(mfrow=c(1,2))\n",
    "\n",
    "plot(lambda, posterior_unif1_jeff, type=\"l\", col=\"blue4\",lwd=2,lty=1, \n",
    "     ylab=\"Posterior Jeffery prior n1\", xlab= expression(lambda) , xlim=c(0,50), ylim=c(0,0.3))\n",
    "grid()\n",
    "plot(lambda, posterior_unif2_jeff, type=\"l\", col=\"blue4\",lwd=2,lty=1, \n",
    "     ylab=\"Posterior Jeffey prior n2+n1\", xlab= expression(lambda) , xlim=c(0,50), ylim=c(0,0.3))\n",
    "grid()"
   ]
  },
  {
   "cell_type": "code",
   "execution_count": 39,
   "id": "written-objective",
   "metadata": {},
   "outputs": [
    {
     "name": "stdout",
     "output_type": "stream",
     "text": [
      "Analytically Mean:  40.04167 \n",
      "Analytically Variance:  3.336806 \n",
      "Numerically Mean:  40.04166 \n",
      "Numerically Variance:  3.336785 \n",
      "Numerically Median:  40.014 \n"
     ]
    }
   ],
   "source": [
    "# analytically\n",
    "mean_jeff <- alpha2_jeff / lambda2_jeff\n",
    "var_jeff <- alpha2_jeff / lambda2_jeff^2\n",
    "cat('Analytically Mean: ',mean_jeff,'\\n')\n",
    "cat('Analytically Variance: ',var_jeff,'\\n')\n",
    "\n",
    "#numerically\n",
    "mean_jeff <- sum(lambda*posterior_unif2_jeff)/sum(posterior_unif2_jeff)\n",
    "var_jeff <- sum((lambda^2)*posterior_unif2_jeff/sum(posterior_unif2_jeff)) - mean_jeff^2\n",
    "med_jeff <- mediana(post = posterior_unif2_jeff, delta = delta_lambda, n = n, mu = lambda)\n",
    "cat('Numerically Mean: ',mean_jeff,'\\n')\n",
    "cat('Numerically Variance: ',var_jeff,'\\n')\n",
    "cat('Numerically Median: ',med_jeff,'\\n')"
   ]
  },
  {
   "cell_type": "code",
   "execution_count": 40,
   "id": "passive-transport",
   "metadata": {},
   "outputs": [
    {
     "data": {
      "image/png": "[encoded data removed]",
      "text/plain": [
       "plot without title"
      ]
     },
     "metadata": {},
     "output_type": "display_data"
    }
   ],
   "source": [
    "x1_jeff <- lambda[tail(which(cumsum(posterior_unif2_jeff)/sum(posterior_unif2_jeff) < 0.025),1)]\n",
    "x2_jeff <- lambda[tail(which(cumsum(posterior_unif2_jeff)/sum(posterior_unif2_jeff) < 1- 0.025),1)]\n",
    "xmax_jeff <- lambda[which.max(posterior_unif2_jeff)]\n",
    "\n",
    "options(repr.plot.width = 10, repr.plot.height = 6)\n",
    "par(mfrow=c(1,1))\n",
    "\n",
    "plot(lambda, posterior_unif2_jeff, type=\"l\",col=\"blue4\",lwd=2,lty=1,ylim=c(0,0.3), xlim=c(0,50),\n",
    "    ylab=\"Posterior\", xlab= expression(mu))\n",
    "abline(v=x1_jeff, lty=3,col='black')\n",
    "abline(v=x2_jeff, lty=3,col='black')\n",
    "abline(v=mean_jeff, lty=2,col='black')\n",
    "legend(\"topright\", c(\"Posterior Jeffrey prior\",'Mean value','Variance'), col=c('blue4','black','black'),\n",
    "       lwd=2, lty=c(1,2,3),cex = 0.6)\n",
    "polygon(c(lambda[lambda>=x1_jeff & lambda<=x2_jeff], x2_jeff, x1_jeff), c(posterior_unif2_jeff[lambda>=x1_jeff & lambda<=x2_jeff], 0, 0),\n",
    "        col=rgb(0,0,1,0.5))\n",
    "grid()"
   ]
  },
  {
   "cell_type": "markdown",
   "id": "western-storage",
   "metadata": {},
   "source": [
    "Comparison between the two different prior."
   ]
  },
  {
   "cell_type": "code",
   "execution_count": 41,
   "id": "about-private",
   "metadata": {},
   "outputs": [
    {
     "data": {
      "image/png": "[encoded data removed]",
      "text/plain": [
       "plot without title"
      ]
     },
     "metadata": {},
     "output_type": "display_data"
    }
   ],
   "source": [
    "plot(lambda, posterior_unif2_jeff, type=\"l\",col=\"blue4\",lwd=2,lty=1,ylim=c(0,0.3), xlim=c(0,50),\n",
    "    ylab=\"Posterior\", xlab= expression(mu))\n",
    "lines(lambda, posterior_unif2,type=\"l\",col=\"firebrick\",lwd=2,lty=1)\n",
    "legend(\"topright\", c(\"Posterior uniform prior\",'Posterior Jeffrey prior'), col=c('firebrick','blue4'),\n",
    "       lwd=2, lty=1,cex = 0.6)\n",
    "grid()"
   ]
  },
  {
   "cell_type": "markdown",
   "id": "finite-julian",
   "metadata": {},
   "source": [
    "# Ex 3\n",
    "- A study on water quality of streams, a high level of bacter X was defined as a level greater than $100$\n",
    "per $100$ ml of stream water. $n = 116$ samples were taken from streams having a high environmental\n",
    "impact on pandas. Out of these, $y = 11$ had a high bacter X level.\n",
    "- indicating with $p$ the probability that a sample of water taken from the stream has a high bacter\n",
    "X level,"
   ]
  },
  {
   "cell_type": "markdown",
   "id": "healthy-cornwall",
   "metadata": {},
   "source": [
    "### 3.1\n",
    "Find the frequentist estimator for $p$."
   ]
  },
  {
   "cell_type": "code",
   "execution_count": 13,
   "id": "stopped-talent",
   "metadata": {},
   "outputs": [
    {
     "name": "stdout",
     "output_type": "stream",
     "text": [
      "Frequentist estimator of the failure probability:  9.482759 %"
     ]
    }
   ],
   "source": [
    "n <- 116\n",
    "y <- 11\n",
    "p <- seq(0,1,0.001)\n",
    "\n",
    "freq_est <- y/n\n",
    "cat('Frequentist estimator of the failure probability: ',freq_est*100,'%')"
   ]
  },
  {
   "cell_type": "markdown",
   "id": "enclosed-foundation",
   "metadata": {},
   "source": [
    "### 3.2\n",
    "Using a $Beta(1, 10)$ prior for $p$, calculate and posterior distribution $P(p|y)$."
   ]
  },
  {
   "cell_type": "code",
   "execution_count": 14,
   "id": "sexual-tamil",
   "metadata": {},
   "outputs": [],
   "source": [
    "alpha <- 1 + y\n",
    "beta <- 10 + n - y\n",
    "posterior <- dbeta(p, alpha, beta)"
   ]
  },
  {
   "cell_type": "markdown",
   "id": "independent-gospel",
   "metadata": {},
   "source": [
    "### 3.3\n",
    "Find the bayesian estimator for $p$, the posterior mean and variance, and a $95$% credible interval."
   ]
  },
  {
   "cell_type": "code",
   "execution_count": 15,
   "id": "hollow-gregory",
   "metadata": {},
   "outputs": [
    {
     "name": "stdout",
     "output_type": "stream",
     "text": [
      "Mean:  0.09448819 \n",
      "Variance:  0.0006684388 \n"
     ]
    },
    {
     "data": {
      "image/png": "[encoded data removed]",
      "text/plain": [
       "plot without title"
      ]
     },
     "metadata": {},
     "output_type": "display_data"
    }
   ],
   "source": [
    "post_mu <- (alpha)/(alpha + beta)\n",
    "post_var <- alpha*beta/((alpha + beta)^2 * (alpha + beta + 1))\n",
    "cat('Mean: ',post_mu,'\\n')\n",
    "cat('Variance: ',post_var,'\\n')\n",
    "\n",
    "x1 <- p[tail(which(cumsum(posterior)/sum(posterior) < 0.025),1)]\n",
    "x2 <- p[tail(which(cumsum(posterior)/sum(posterior) < 1- 0.025),1)]\n",
    "xmax <- p[which.max(posterior)]\n",
    "\n",
    "plot(p, posterior, type=\"l\", col=\"firebrick\",lwd=2,lty=1, \n",
    "     ylab=\"Posterior\", xlab= 'p' , xlim=c(0,1), ylim=c(0,20))\n",
    "abline(v=post_mu, lty=2,col='black')\n",
    "abline(v=x1, lty=3,col='black')\n",
    "abline(v=x2, lty=3,col='black')\n",
    "legend(\"topright\", c(\"Posterior beta prior\",'Mean value','95% interval'), col=c('firebrick','black','black'),\n",
    "       lwd=2, lty=c(1,2,3),cex = 0.6)\n",
    "polygon(c(p[p>=x1 & p<=x2], x2, x1), c(posterior[p>=x1 & p<=x2], 0, 0),\n",
    "        col=rgb(1,0,0,0.5))\n",
    "grid()"
   ]
  },
  {
   "cell_type": "markdown",
   "id": "latest-worcester",
   "metadata": {},
   "source": [
    "### 3.4\n",
    "test the hypotesis\n",
    "\n",
    "$H0 : p = 0.1$\n",
    "\n",
    "versus\n",
    "\n",
    "$H1 : p \\ne 0.1$\n",
    "\n",
    "at $5$% level of significance with both the frequentist and bayesian approach."
   ]
  },
  {
   "cell_type": "code",
   "execution_count": 16,
   "id": "special-accident",
   "metadata": {},
   "outputs": [
    {
     "name": "stdout",
     "output_type": "stream",
     "text": [
      "Posterior probability:  38.5815 %\n",
      "Posterior probability is higher that 5%, so we do not reject the null hypothesis."
     ]
    }
   ],
   "source": [
    "cat('Posterior probability: ',integrate(dbeta, shape1 = alpha, shape2 = beta,0.1, 1)$value * 100,'%\\n')\n",
    "cat('Posterior probability is higher that 5%, so we do not reject the null hypothesis.')"
   ]
  },
  {
   "cell_type": "code",
   "execution_count": 17,
   "id": "rubber-intellectual",
   "metadata": {},
   "outputs": [
    {
     "name": "stdout",
     "output_type": "stream",
     "text": [
      "Posterior probability:  38.10246 %\n",
      "Posterior probability is higher that 5%, so we do not reject the null hypothesis."
     ]
    }
   ],
   "source": [
    "cat('Posterior probability: ',sum(dbinom(seq(0,y-1), n, 0.1))* 100,'%\\n')\n",
    "cat('Posterior probability is higher that 5%, so we do not reject the null hypothesis.')"
   ]
  },
  {
   "cell_type": "markdown",
   "id": "rental-antique",
   "metadata": {},
   "source": [
    "- a new measurement, performed one month later on $n = 165$ water samples, gives $y = 9$ high bacter\n",
    "X level."
   ]
  },
  {
   "cell_type": "markdown",
   "id": "front-fundamentals",
   "metadata": {},
   "source": [
    "### 3.5\n",
    "Find the frequentist estimator for $p$."
   ]
  },
  {
   "cell_type": "code",
   "execution_count": 18,
   "id": "resident-reggae",
   "metadata": {},
   "outputs": [
    {
     "name": "stdout",
     "output_type": "stream",
     "text": [
      "Frequentist estimator of the failure probability:  5.454545 %"
     ]
    }
   ],
   "source": [
    "n <- 165\n",
    "y <- 9\n",
    "p <- seq(0,1,0.001)\n",
    "\n",
    "freq_est <- y/n\n",
    "cat('Frequentist estimator of the failure probability: ',freq_est*100,'%')"
   ]
  },
  {
   "cell_type": "markdown",
   "id": "sonic-above",
   "metadata": {},
   "source": [
    "### 3.6\n",
    "Find a bayesian estimator for $p$, assuming both a $Beta(1, 10)$ prior for $p$, and assuming the posterior\n",
    "probability of the older measurement as the prior for the new one."
   ]
  },
  {
   "cell_type": "code",
   "execution_count": 19,
   "id": "reflected-wireless",
   "metadata": {},
   "outputs": [],
   "source": [
    "alpha2 <- alpha + y\n",
    "beta2 <- beta + n - y\n",
    "posterior_2 <- dbeta(p, alpha2, beta2)"
   ]
  },
  {
   "cell_type": "markdown",
   "id": "concerned-breathing",
   "metadata": {},
   "source": [
    "### 3.7\n",
    "Find the bayesian estimator for $p$, the posterior mean and variance, and a $95$% credible interval."
   ]
  },
  {
   "cell_type": "code",
   "execution_count": 20,
   "id": "elementary-version",
   "metadata": {},
   "outputs": [
    {
     "name": "stdout",
     "output_type": "stream",
     "text": [
      "Mean:  0.07191781 \n",
      "Variance:  0.0002278008 \n"
     ]
    },
    {
     "data": {
      "image/png": "[encoded data removed]",
      "text/plain": [
       "plot without title"
      ]
     },
     "metadata": {},
     "output_type": "display_data"
    }
   ],
   "source": [
    "post_mu <- (alpha2)/(alpha2 + beta2)\n",
    "post_var <- alpha2*beta2/((alpha2 + beta2)^2 * (alpha2 + beta2 + 1))\n",
    "cat('Mean: ',post_mu,'\\n')\n",
    "cat('Variance: ',post_var,'\\n')\n",
    "\n",
    "x1 <- p[tail(which(cumsum(posterior_2)/sum(posterior_2) < 0.025),1)]\n",
    "x2 <- p[tail(which(cumsum(posterior_2)/sum(posterior_2) < 1- 0.025),1)]\n",
    "xmax <- p[which.max(posterior_2)]\n",
    "\n",
    "plot(p, posterior_2, type=\"l\", col=\"blue4\",lwd=2,lty=1, \n",
    "     ylab=\"Posterior\", xlab= 'p' , xlim=c(0,1), ylim=c(0,30))\n",
    "abline(v=post_mu, lty=2,col='black')\n",
    "abline(v=x1, lty=3,col='black')\n",
    "abline(v=x2, lty=3,col='black')\n",
    "legend(\"topright\", c(\"Posterior beta prior\",'Mean value','95% interval'), col=c('blue4','black','black'),\n",
    "       lwd=2, lty=c(1,2,3),cex = 0.6)\n",
    "polygon(c(p[p>=x1 & p<=x2], x2, x1), c(posterior_2[p>=x1 & p<=x2], 0, 0),\n",
    "        col=rgb(0,0,1,0.5))\n",
    "grid()"
   ]
  },
  {
   "cell_type": "markdown",
   "id": "minor-orleans",
   "metadata": {},
   "source": [
    "### 3.8\n",
    "test the hypotesis\n",
    "\n",
    "$H0 : p = 0.1$\n",
    "\n",
    "versus\n",
    "\n",
    "$H1 : p \\ne 0.1$\n",
    "\n",
    "at $5$% level of significance with both the frequentist and bayesian approach."
   ]
  },
  {
   "cell_type": "code",
   "execution_count": 21,
   "id": "applied-forward",
   "metadata": {},
   "outputs": [
    {
     "name": "stdout",
     "output_type": "stream",
     "text": [
      "Posterior probability:  4.117008 %\n",
      "Posterior probability is less that 5%, so we reject the null hypothesis."
     ]
    }
   ],
   "source": [
    "cat('Posterior probability: ',integrate(dbeta, shape1 = alpha2, shape2 = beta2, 0.1, 1)$value * 100,'%\\n')\n",
    "cat('Posterior probability is less that 5%, so we reject the null hypothesis.')"
   ]
  },
  {
   "cell_type": "code",
   "execution_count": 22,
   "id": "consolidated-priority",
   "metadata": {},
   "outputs": [
    {
     "name": "stdout",
     "output_type": "stream",
     "text": [
      "Posterior probability:  1.290585 %\n",
      "Posterior probability is less that 5%, so we reject the null hypothesis."
     ]
    }
   ],
   "source": [
    "cat('Posterior probability: ',sum(dbinom(seq(0,y-1), n, 0.1))* 100,'%\\n')\n",
    "cat('Posterior probability is less that 5%, so we reject the null hypothesis.')"
   ]
  }
 ],
 "metadata": {
  "kernelspec": {
   "display_name": "R [conda env:rstudio]",
   "language": "R",
   "name": "conda-env-rstudio-r"
  },
  "language_info": {
   "codemirror_mode": "r",
   "file_extension": ".r",
   "mimetype": "text/x-r-source",
   "name": "R",
   "pygments_lexer": "r",
   "version": "3.6.1"
  }
 },
 "nbformat": 4,
 "nbformat_minor": 5
}
